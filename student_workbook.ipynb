{
 "cells": [
  {
   "cell_type": "code",
   "execution_count": null,
   "metadata": {},
   "outputs": [],
   "source": [
    "import numpy as np\n",
    "import matplotlib.pyplot as plt\n",
    "import emcee\n",
    "from astropy.io import ascii\n",
    "import corner\n",
    "import os\n",
    "from timeit import default_timer as timer\n",
    "import matplotlib.colors as colors\n",
    "import matplotlib.cm as cmx\n",
    "from scipy.optimize import least_squares, curve_fit\n",
    "from scipy.stats import f"
   ]
  },
  {
   "cell_type": "code",
   "execution_count": null,
   "metadata": {},
   "outputs": [],
   "source": [
    "def load_data(filename='radio_lightcurve.dat'):\n",
    "    data = ascii.read(filename)\n",
    "    return data\n",
    "\n",
    "data = load_data()"
   ]
  },
  {
   "cell_type": "markdown",
   "metadata": {},
   "source": [
    "# Make a plot of the radio lightcurve\n",
    "Make a log-log plot of the flux density as a function of time. Make sure to modularise your code so that we can re-use parts of it later on. For bonus points use different markers for each telescope, and use a colour scale to denote the observation frequency."
   ]
  },
  {
   "cell_type": "code",
   "execution_count": null,
   "metadata": {},
   "outputs": [],
   "source": [
    "def plot_data(ax, sm, data, scaled=False, **kwargs):\n",
    "    telescope_marker_dict = {'VLA':'s', 'ATCA':'o', 'GMRT':'d'}\n",
    "    \n",
    "    \n",
    "    for row in data:\n",
    "        #Loop over each row of the data, set the marker colour based on frequency and the marker style based on telescope\n",
    "        \n",
    "\n",
    "    return\n",
    "\n",
    "def cmap_setup(cmap='viridis', min_freq=0, max_freq=17):\n",
    "    '''\n",
    "    This function will set up a scalar map for you to colour your markers by frequency\n",
    "    '''\n",
    "    freq_cmap = plt.cm.get_cmap(cmap)\n",
    "    \n",
    "    cNorm  = colors.Normalize(vmin=min_freq, vmax=max_freq)\n",
    "    scalarMap = cmx.ScalarMappable(norm=cNorm, cmap=cmap)\n",
    "    sm = scalarMap\n",
    "    sm._A = []\n",
    "    \n",
    "    return sm    \n",
    "    \n",
    "def make_plot(data, scaled=False, model=None, params=None, tvals=np.arange(10,400), plot_models=False):\n",
    "    fig = plt.figure(figsize=(10,6))\n",
    "    ax = fig.add_subplot(111)\n",
    "    \n",
    "    #Get the scalar map, plot the data using the plot_data function above\n",
    "    sm = cmap_setup()\n",
    "    plot_data(ax, sm, data, scaled=scaled)\n",
    "    \n",
    "    \n",
    "    #Set up a colourbar\n",
    "\n",
    "    \n",
    "    #Set axis scales to log\n",
    "    \n",
    "    \n",
    "    #Label axes, set axis limits etc.\n",
    "    \n",
    "    \n",
    "make_plot(data)"
   ]
  },
  {
   "cell_type": "markdown",
   "metadata": {},
   "source": [
    "# Determining the spectral index\n",
    "Write a function to take a subset of the data and calculate the spectral index and its uncertainty. Using multi-band observation at 162 days post-merger calculate the spectral index."
   ]
  },
  {
   "cell_type": "code",
   "execution_count": null,
   "metadata": {},
   "outputs": [],
   "source": [
    "def calc_power_law(freq,S0,alpha):\n",
    "    S = S0 * (freq) ** alpha\n",
    "    return S\n",
    "\n",
    "def alpha_calc(data):\n",
    "    '''\n",
    "    Write a function to take in some subset of data and fit a power law to the spectrum using the curve_fit function.\n",
    "    Your function should return a tuple containing the spectral index and associated uncertainty.\n",
    "    \n",
    "    Hint: Don't forget to include uncertainties (and set absolute_sigma=True)\n",
    "    '''\n",
    "    \n",
    "    \n",
    "    return alpha, alpha_err"
   ]
  },
  {
   "cell_type": "code",
   "execution_count": null,
   "metadata": {},
   "outputs": [],
   "source": [
    "#Select the data at the ~162 day epoch and print the spectral index + uncertainty\n",
    "\n",
    "sel_data = data[data['delta_t'] == 162.89]\n",
    "\n",
    "alpha, alpha_err = alpha_calc(sel_data)\n",
    "\n",
    "print(\"alpha = %.1f+/-%.1f\"%(alpha, alpha_err))"
   ]
  },
  {
   "cell_type": "markdown",
   "metadata": {},
   "source": [
    "## Scaling the data based on the spectral Index\n",
    "Write a function to take the observed data and scale it to a specific frequency based on an estimated spectral index. We expect that the radio emission can be fit by a simple power law in frequency, so scaling all of the data to a single frequency makes it easier to understand the temporal properties of the lightcurve.\n",
    "\n",
    "Don't forget to include uncertainties! You should add two columns to your data table called \"scaled_flux\" and \"scaled_rms\""
   ]
  },
  {
   "cell_type": "code",
   "execution_count": null,
   "metadata": {},
   "outputs": [],
   "source": [
    "def scale_data(data, alpha, alpha_err, ref_freq=3.0):\n",
    "    #calculate a scaling factor for the flux density and uncertainty\n",
    "    f_scale = \n",
    "    rms_scale = \n",
    "    \n",
    "    #scale the flux and uncertainty - don't forget to add errors in quadrature\n",
    "    scaled_flux = \n",
    "    scaled_rms = \n",
    "    \n",
    "    #Add two new columns to the data\n",
    "    data['scaled_flux'] = scaled_flux\n",
    "    data['scaled_rms'] = scaled_rms\n",
    "    \n",
    "    return data"
   ]
  },
  {
   "cell_type": "markdown",
   "metadata": {},
   "source": [
    "Modify your plot_data() and make_plot() functions to add a keyword parameter \"scaled\" that is by default False. If scaled=True, plot_data() should plot the scaled data instead of the observed data.\n",
    "\n",
    "Scale the data to 3 GHz based on your estimated spectral index and associated uncertainty, then plot the scaled lightcurve"
   ]
  },
  {
   "cell_type": "code",
   "execution_count": null,
   "metadata": {},
   "outputs": [],
   "source": [
    "data = scale_data(data, -0.6,0.1)\n",
    "make_plot(data, scaled=True)"
   ]
  },
  {
   "cell_type": "markdown",
   "metadata": {},
   "source": [
    "# Fitting the data\n",
    "We now want to characterise the radio lightcurve. You should be able to see that it initially rises according to a power law, peaks somewhere between 100 and 200 days post-merger and then declines according to a different power law.\n",
    "\n",
    "However, when we published the first paper demonstrating evidence of a turnover we only had observations up to 200 days post-merger. We will now determine evidence for a turnover using that subset of data.\n",
    "\n",
    "Create a new table called tdata with the data up to 200 days post-merger and plot the data using your make_plot() function."
   ]
  },
  {
   "cell_type": "code",
   "execution_count": null,
   "metadata": {},
   "outputs": [],
   "source": [
    "data = load_data()\n",
    "data = scale_data(data, -0.6,0.05)\n",
    "tdata = data[data['delta_t'] < 200]\n",
    "\n",
    "make_plot(tdata, scaled=True)"
   ]
  },
  {
   "cell_type": "markdown",
   "metadata": {},
   "source": [
    "We can fit this data with a \"smoothed broken power law\", which combines two power laws with a smoothing parameter around the break point. One functional form of this is given by\n",
    "\n",
    "$S(t) = F_{\\rm peak} \\left[ \\left(\\dfrac{t}{t_{\\rm peak}}\\right)^{-s\\delta_1} + \\left(\\dfrac{t}{t_{\\rm peak}}\\right)^{-s\\delta_2}\\right]^{-1/s}$\n",
    "\n",
    "Write a function smooth_broken_power_law() that outputs a smoothed broken power law that also scales based on frequency and spectral index"
   ]
  },
  {
   "cell_type": "code",
   "execution_count": null,
   "metadata": {},
   "outputs": [],
   "source": [
    "def smooth_broken_power_law(t, nu, F_peak, t_peak, delta_1, delta_2, alpha, log_s, nu0=3.0):\n",
    "\n",
    "    \n",
    "    return "
   ]
  },
  {
   "cell_type": "markdown",
   "metadata": {},
   "source": [
    "## Determining evidence for a turnover\n",
    "\n",
    "We now want to fit a smoothed broken power law to our data and see if there is evidence for a turnover in the radio lightcurve. In our paper we do this via a parameter grid-search to minimise $\\chi^2$. \n",
    "\n",
    "Here we will perform an MCMC fit using the emcee package, to determine lightcurve parameters and the spectral index of the source. First you will need to write 3 functions that define your Probability, Prior and Likelihood.\n",
    "\n",
    "We will use a uniform prior with $\\delta_1>0$ (since we require the lightcurve to initially rise), $0<t_{\\rm peak}<300$ (since our data only covers the period up to 200 days) and $s<100$. The parameters will be passed to the function via a tuple."
   ]
  },
  {
   "cell_type": "code",
   "execution_count": null,
   "metadata": {},
   "outputs": [],
   "source": [
    "def lnprior(theta):\n",
    "    F_peak, t_peak, delta_1, delta_2, alpha, log_s = theta\n",
    "\n",
    "    if #Prior conditions:\n",
    "        return 0.0\n",
    "    \n",
    "    else:\n",
    "        return -np.inf"
   ]
  },
  {
   "cell_type": "markdown",
   "metadata": {},
   "source": [
    "We will now write a likelihood function that takes the lightcurve parameters inside the tuple theta, along with the observed data."
   ]
  },
  {
   "cell_type": "code",
   "execution_count": null,
   "metadata": {},
   "outputs": [],
   "source": [
    "def lnlike(theta, t, nu, S, S_err):\n",
    "    F_peak, t_peak, delta_1, delta_2, alpha, log_s = theta\n",
    "\n",
    "    return lnlike_val"
   ]
  },
  {
   "cell_type": "markdown",
   "metadata": {},
   "source": [
    "Now write a function to calculate the marginal probability using the lnlike() and lnprior() functions you calculated above"
   ]
  },
  {
   "cell_type": "code",
   "execution_count": null,
   "metadata": {},
   "outputs": [],
   "source": [
    "def lnprob(theta, t, nu, S, S_err):\n",
    "    lp = lnprior(theta)\n",
    "\n",
    "    if not np.isfinite(lp):\n",
    "        return -np.inf\n",
    "\n",
    "    return lp + lnlike(theta, t, nu, S, S_err)"
   ]
  },
  {
   "cell_type": "markdown",
   "metadata": {},
   "source": [
    "We will now fit the data using the emcee package. The function get_starting_pos() provided below will set up an array of walker starting positions for given lightcurve parameters. Examine the lightcurve and estimate some reasonable values for these parameters and add them to the function.\n",
    "\n",
    "Now write a function called run_mcmc() that will load the observed data, take the starting position and then run the emcee Ensemple Sampler. Use a small number of iterations and walkers initially (100/20) to see how long the code takes to run on your laptop. Then increase both parameters to a larger number so that the algorithm takes ~90 seconds to run."
   ]
  },
  {
   "cell_type": "code",
   "execution_count": null,
   "metadata": {},
   "outputs": [],
   "source": [
    "def get_starting_pos(nwalkers, ndim=6):\n",
    "    F_peak = \n",
    "    t_peak = \n",
    "    delta_1 = \n",
    "    delta_2 = \n",
    "    alpha = \n",
    "    log_s = \n",
    "    \n",
    "    pos = [np.asarray([F_peak, t_peak, delta_1, delta_2, alpha, log_s]) + 1e-4*np.random.randn(ndim) for i in range(nwalkers)]\n",
    "    \n",
    "    return pos"
   ]
  },
  {
   "cell_type": "code",
   "execution_count": null,
   "metadata": {},
   "outputs": [],
   "source": [
    "def run_mcmc(data, niters=1000, nthreads=1, nwalkers=200, ndim=6):\n",
    "    t = data['delta_t']\n",
    "    nu = data['frequency']\n",
    "    S = data['flux']\n",
    "    S_err = data['rms']\n",
    "    \n",
    "    pos = get_starting_pos(nwalkers, ndim=ndim)\n",
    "    \n",
    "    sampler = emcee.EnsembleSampler(nwalkers, ndim, lnprob, args=(t, nu, S, S_err),threads=nthreads)\n",
    "    \n",
    "    start = timer()\n",
    "    sampler.run_mcmc(pos, niters)\n",
    "    end = timer()\n",
    "    \n",
    "    print(\"Computation time: %f s\"%(end-start))\n",
    "    \n",
    "    return sampler"
   ]
  },
  {
   "cell_type": "markdown",
   "metadata": {},
   "source": [
    "We now want to inspect our chain to see if our algorithm has converged to a reasonable solution. First, extract the chain from the sampler, and then write a function to make a figure showing how each walker moves around the parameter space. Your figure should have 6 subplots (1 for each dimension), iteration number on the x-axis and parameter value on the y-axis.\n",
    "\n",
    "MCMC algorithms typically use a burn-in phase, where the sampler is moving towards the optimum solution and not yet accurately sampling the parameter space. Add a parameter chain_cut to your function that plots a vertical line at the end of the burn-in."
   ]
  },
  {
   "cell_type": "code",
   "execution_count": null,
   "metadata": {},
   "outputs": [],
   "source": [
    "sampler = run_mcmc(tdata)\n",
    "chain = sampler.chain"
   ]
  },
  {
   "cell_type": "code",
   "execution_count": null,
   "metadata": {},
   "outputs": [],
   "source": [
    "def make_chain_plot(chain, chain_cut):\n",
    "    niters = chain.shape[1]\n",
    "    ndim = chain.shape[2]\n",
    "\n",
    "    fig, axes = plt.subplots(ndim,1,sharex=True)\n",
    "    fig.set_size_inches(7, 20)\n",
    "    \n",
    "    param_names = ['$F_{{\\\\rm peak}, 3\\.{\\\\rm GHz}}$', '$t_{{\\\\rm peak}}$','$\\\\delta_1$','$\\\\delta_2$', '$\\\\alpha$', '$\\\\log_{10}(s)$']\n",
    "\n",
    "    for i, (ax,param_name) in enumerate(zip(axes,param_names)):\n",
    "        #plot the chain for the given parameter\n",
    "        \n",
    "        \n",
    "        \n",
    "        ax.set_ylabel(param_name)\n",
    "        ax.set_xlim(0,niters)\n",
    "        \n",
    "        \n",
    "        ax.axvline(chain_cut,c='r',linestyle='--')\n",
    "\n",
    "chain_cut = \n",
    "\n",
    "make_chain_plot(chain, chain_cut)"
   ]
  },
  {
   "cell_type": "markdown",
   "metadata": {},
   "source": [
    "Now that we know that our algorithm is converging, and we know how long the burn-in takes we can begin to estimate parameters. The function below will make a corner plot from the good part of your chain."
   ]
  },
  {
   "cell_type": "code",
   "execution_count": null,
   "metadata": {},
   "outputs": [],
   "source": [
    "good_chain = chain[:, chain_cut:, :]"
   ]
  },
  {
   "cell_type": "code",
   "execution_count": null,
   "metadata": {},
   "outputs": [],
   "source": [
    "def make_corner_plot(good_chain, savefile='corner.png'):\n",
    "    param_names = ['$F_{{\\\\rm peak}, 3\\.{\\\\rm GHz}}$', '$t_{{\\\\rm peak}}$','$\\\\delta_1$','$\\\\delta_2$', '$\\\\alpha$', '$\\\\log_{10}(s)$']\n",
    "    ndim = good_chain.shape[2]\n",
    "    \n",
    "    fig = corner.corner(good_chain.reshape((-1, ndim)), labels=param_names, quantiles=[0.16, 0.5, 0.84], show_titles=True)\n",
    "    plt.savefig(savefile)\n",
    "\n",
    "make_corner_plot(good_chain)"
   ]
  },
  {
   "cell_type": "markdown",
   "metadata": {},
   "source": [
    "The function below will then extract the median and uncertainty (1 standard deviation) from the chain."
   ]
  },
  {
   "cell_type": "code",
   "execution_count": null,
   "metadata": {},
   "outputs": [],
   "source": [
    "def get_best_params(chain):\n",
    "    ndim = chain.shape[2]\n",
    "    \n",
    "    chain = chain.reshape((-1, ndim))\n",
    "    vals = map(lambda v: (v[1], v[2]-v[1], v[1]-v[0]), zip(*np.percentile(chain, [16, 50, 84],axis=0)))\n",
    "    \n",
    "    param_names = ['F_peak', 't_peak', 'delta_1', 'delta_2', 'alpha', 'log_s']\n",
    "    \n",
    "    param_dict = dict(zip(param_names,vals))\n",
    "    \n",
    "    return param_dict\n",
    "    \n",
    "    \n",
    "best_params = get_best_params(good_chain)"
   ]
  },
  {
   "cell_type": "markdown",
   "metadata": {},
   "source": [
    "Now write a function, calc_chi2(), that will calculate the $\\chi^2$ for the fit. We will use this later to compare different lightcurve models"
   ]
  },
  {
   "cell_type": "code",
   "execution_count": null,
   "metadata": {},
   "outputs": [],
   "source": [
    "def calc_chi2(best_params, param_names, model, data, nu0=3.0):\n",
    "\n",
    "    \n",
    "    return chi2\n",
    "\n",
    "param_names = ['F_peak', 't_peak', 'delta_1', 'delta_2', 'alpha', 'log_s']\n",
    "\n",
    "chi2_best = calc_chi2(best_params, param_names, smooth_broken_power_law, tdata)\n",
    "print(chi2_best)"
   ]
  },
  {
   "cell_type": "markdown",
   "metadata": {},
   "source": [
    "We will now plot our best fit on top of the observational data.\n",
    "\n",
    "Write a function plot_model() that takes in a function that calculates the model fit (in this case, our smooth_broken_power_law function), the best parameters, an array of values to plot the model for and a matplotlib axis to plot it on. Modify your make_plot function to take in an optional argument for the model to plot. If the model is supplied your make_plot() function should call your plot_model() function."
   ]
  },
  {
   "cell_type": "code",
   "execution_count": null,
   "metadata": {},
   "outputs": [],
   "source": [
    "def plot_model(model, params, tvals, ax):\n",
    "\n",
    "    return\n",
    "\n",
    "plotting_data = scale_data(tdata, best_params['alpha'][0],np.max(best_params['alpha'][1:]))    \n",
    "    \n",
    "make_plot(plotting_data,scaled=True,model=smooth_broken_power_law,params=args, plot_models=False)"
   ]
  },
  {
   "cell_type": "markdown",
   "metadata": {},
   "source": [
    "But how do we know that the lightcurve has definitely turned over?\n",
    "\n",
    "We can perform a similar process as above to fit a standard power law to our data and then use an F-test to determine which model (turnover or no turnover) provides the best fit. We have provided a power_law() function that calculates the a power-law fit to the data. Now write a series of functions to perform an MCMC fit using a standard power law; lnprior_noturnover(), lnlike_noturnover(), lnprob_noturnover(), get_starting_pos_noturnover(), run_mcmc_noturnover()."
   ]
  },
  {
   "cell_type": "code",
   "execution_count": null,
   "metadata": {},
   "outputs": [],
   "source": [
    "def power_law(t, nu, F0, delta_1, alpha, nu0=3.0):\n",
    "    return (nu/nu0)**alpha * F0 * t**delta_1\n",
    "\n",
    "def lnprior_noturnover(theta):\n",
    "    F0, delta_1, alpha = theta\n",
    "\n",
    "    if delta_1 > 0.0:\n",
    "        return 0.0\n",
    "    \n",
    "    else:\n",
    "        return -np.inf\n",
    "    \n",
    "def lnlike_noturnover(theta, t, nu, S, S_err):\n",
    "    \n",
    "\n",
    "    return lnline_val\n",
    "\n",
    "def lnprob_noturnover(theta, t, nu, S, S_err):\n",
    "    lp = lnprior_noturnover(theta)\n",
    "\n",
    "    if not np.isfinite(lp):\n",
    "        return -np.inf\n",
    "\n",
    "    return lp + lnlike_noturnover(theta, t, nu, S, S_err)\n",
    "\n",
    "def get_starting_pos_noturnover(nwalkers, ndim=6):\n",
    "    F0 = \n",
    "    delta_1 = \n",
    "    alpha = \n",
    "    \n",
    "    pos = [np.asarray([F0, delta_1, alpha]) + 1e-4*np.random.randn(ndim) for i in range(nwalkers)]\n",
    "    \n",
    "    return pos\n",
    "\n",
    "def run_mcmc_noturnover(data, niters=1000, nthreads=1, nwalkers=200, ndim=3):\n",
    "    \n",
    "    return sampler"
   ]
  },
  {
   "cell_type": "markdown",
   "metadata": {},
   "source": [
    "Now run the sampler for the standard power law fit and write a function to plot the chains and calculate the length of the burn-in."
   ]
  },
  {
   "cell_type": "code",
   "execution_count": null,
   "metadata": {},
   "outputs": [],
   "source": [
    "sampler_noturnover = run_mcmc_noturnover(tdata)"
   ]
  },
  {
   "cell_type": "code",
   "execution_count": null,
   "metadata": {},
   "outputs": [],
   "source": [
    "def make_chain_plot_noturnover(chain, chain_cut):\n",
    "    \n",
    "\n",
    "chain_noturnover = sampler_noturnover.chain\n",
    "chain_cut_nt = \n",
    "\n",
    "make_chain_plot_noturnover(chain_noturnover, chain_cut)"
   ]
  },
  {
   "cell_type": "markdown",
   "metadata": {},
   "source": [
    "Make a corner plot for the standard power law fit"
   ]
  },
  {
   "cell_type": "code",
   "execution_count": null,
   "metadata": {},
   "outputs": [],
   "source": [
    "def make_corner_plot_noturnover(good_chain, savefile='corner.png'):\n",
    "    \n",
    "    \n",
    "    plt.savefig(savefile)\n",
    "\n",
    "good_chain_nt = chain_noturnover[:, chain_cut_nt:, :]\n",
    "\n",
    "make_corner_plot_noturnover(good_chain_nt)"
   ]
  },
  {
   "cell_type": "markdown",
   "metadata": {},
   "source": [
    "How do the values of $\\delta_1$ and $\\alpha$ compare to the previous fit. How does the calculated radio spectral index compare to the joint X-ray/radio spectral index ($\\alpha=-0.585\\pm 0.005$)?\n",
    "\n",
    "Now write a function to get the best parameters for the standard power law fit."
   ]
  },
  {
   "cell_type": "code",
   "execution_count": null,
   "metadata": {},
   "outputs": [],
   "source": [
    "def get_best_params_noturnover(chain):\n",
    "    \n",
    "    return param_dict\n",
    "    \n",
    "    \n",
    "best_params_nt = get_best_params_noturnover(good_chain_nt)"
   ]
  },
  {
   "cell_type": "markdown",
   "metadata": {},
   "source": [
    "Now that we have the best parameters for the standard power law fit we can plot it over our data. Don't forget to scale the data based on the calculated best-fit spectral index!"
   ]
  },
  {
   "cell_type": "code",
   "execution_count": null,
   "metadata": {},
   "outputs": [],
   "source": [
    "param_names_nt = ['F0', 'delta_1', 'alpha']\n",
    "args_nt = []\n",
    "for param in param_names_nt:\n",
    "    val = best_params_nt[param][0]\n",
    "    args_nt.append(val)\n",
    "        \n",
    "\n",
    "\n",
    "plotting_data_nt = scale_data(tdata, best_params_nt['alpha'][0],np.max(best_params_nt['alpha'][1:]))    \n",
    "    \n",
    "make_plot(plotting_data_nt,scaled=True,model=power_law,params=args_nt)"
   ]
  },
  {
   "cell_type": "markdown",
   "metadata": {},
   "source": [
    "Calculate the $\\chi^2$ for the standard power law fit. We will then use this, and the previously calculated $\\chi^2$ to perform an F-test and determine which model we prefer."
   ]
  },
  {
   "cell_type": "code",
   "execution_count": null,
   "metadata": {},
   "outputs": [],
   "source": [
    "chi2_nt = calc_chi2(best_params_nt, ['F0', 'delta_1', 'alpha'], power_law, tdata)\n",
    "print(chi2_nt)"
   ]
  },
  {
   "cell_type": "markdown",
   "metadata": {},
   "source": [
    "An [F-test](https://en.wikipedia.org/wiki/F-test) is a generalised test that can be used to compare statistical models. In particular, it is useful when comparing two models where one is a restricted form of the other. Write a function calculate_ftest that calculates the F statistic for our two fits and then calculates the corresponding p-value. Hint: We have already imported the [scipy.stats F-distribution model](https://docs.scipy.org/doc/scipy/reference/generated/scipy.stats.f.html), and we can access the cumulative distribution function using f.cdf()."
   ]
  },
  {
   "cell_type": "code",
   "execution_count": null,
   "metadata": {},
   "outputs": [],
   "source": [
    "def calculate_ftest(chi2_t, p_t, chi2_nt, p_nt, n):\n",
    "    \n",
    "    return 1-pval\n",
    "\n",
    "n = \n",
    "p_t = \n",
    "p_nt = \n",
    "\n",
    "calculate_ftest(chi2_best, p_t, chi2_nt, p_nt, n)"
   ]
  },
  {
   "cell_type": "markdown",
   "metadata": {},
   "source": [
    "Which model is preferred? With what confidence can we say that we prefer one model over the other?"
   ]
  },
  {
   "cell_type": "markdown",
   "metadata": {},
   "source": [
    "## Determining Lightcurve Parameters\n",
    "We're now going to use the full radio lightcurve to determine the best fitting parameters for the smooth broken power law. Load the full dataset and pass it to your previous run_mcmc() function."
   ]
  },
  {
   "cell_type": "code",
   "execution_count": null,
   "metadata": {},
   "outputs": [],
   "source": [
    "data = load_data()\n",
    "\n",
    "full_sampler = run_mcmc(data)\n",
    "full_chain = full_sampler.chain"
   ]
  },
  {
   "cell_type": "markdown",
   "metadata": {},
   "source": [
    "Plot the chain and estimate the burn-in length"
   ]
  },
  {
   "cell_type": "code",
   "execution_count": null,
   "metadata": {},
   "outputs": [],
   "source": [
    "full_chain_cut = 200\n",
    "\n",
    "make_chain_plot(full_chain, full_chain_cut)"
   ]
  },
  {
   "cell_type": "markdown",
   "metadata": {},
   "source": [
    "Make a corner plot"
   ]
  },
  {
   "cell_type": "code",
   "execution_count": null,
   "metadata": {},
   "outputs": [],
   "source": [
    "good_full_chain = full_chain[:, full_chain_cut:, :]\n",
    "make_corner_plot(good_full_chain, savefile='corner_fulldata.png')"
   ]
  },
  {
   "cell_type": "markdown",
   "metadata": {},
   "source": [
    "Calculate the best parameters and the $\\chi^2$ for the best fit."
   ]
  },
  {
   "cell_type": "code",
   "execution_count": null,
   "metadata": {},
   "outputs": [],
   "source": []
  },
  {
   "cell_type": "markdown",
   "metadata": {},
   "source": [
    "Now plot the full lightcurve."
   ]
  },
  {
   "cell_type": "code",
   "execution_count": null,
   "metadata": {},
   "outputs": [],
   "source": []
  },
  {
   "cell_type": "markdown",
   "metadata": {},
   "source": [
    "Now write a function to plot the best fitting model for the 3 GHz data and call it from your make_plot() function when you pass plot_models=True"
   ]
  },
  {
   "cell_type": "code",
   "execution_count": null,
   "metadata": {},
   "outputs": [],
   "source": [
    "def plot_physical_models(ax, fname='jet_cocoon_contribution.txt'):\n",
    "    \n",
    "    return ax"
   ]
  },
  {
   "cell_type": "code",
   "execution_count": null,
   "metadata": {},
   "outputs": [],
   "source": [
    "make_plot(plotting_data, scaled=True, model=smooth_broken_power_law, params=full_args, plot_models=True)"
   ]
  },
  {
   "cell_type": "code",
   "execution_count": null,
   "metadata": {},
   "outputs": [],
   "source": []
  }
 ],
 "metadata": {
  "kernelspec": {
   "display_name": "Python 3",
   "language": "python",
   "name": "python3"
  },
  "language_info": {
   "codemirror_mode": {
    "name": "ipython",
    "version": 3
   },
   "file_extension": ".py",
   "mimetype": "text/x-python",
   "name": "python",
   "nbconvert_exporter": "python",
   "pygments_lexer": "ipython3",
   "version": "3.6.5"
  }
 },
 "nbformat": 4,
 "nbformat_minor": 2
}
