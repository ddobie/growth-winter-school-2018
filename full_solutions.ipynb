{
 "cells": [
  {
   "cell_type": "code",
   "execution_count": 28,
   "metadata": {},
   "outputs": [],
   "source": [
    "import numpy as np\n",
    "import matplotlib.pyplot as plt\n",
    "import emcee\n",
    "from astropy.io import ascii\n",
    "from astropy.table import vstack\n",
    "from astropy.modeling import models\n",
    "import corner\n",
    "import pickle\n",
    "import os\n",
    "from timeit import default_timer as timer\n",
    "import matplotlib.colors as colors\n",
    "import matplotlib.cm as cmx\n",
    "from scipy.optimize import least_squares, curve_fit"
   ]
  },
  {
   "cell_type": "code",
   "execution_count": 7,
   "metadata": {},
   "outputs": [],
   "source": [
    "def load_data(filename='radio_lightcurve.dat'):\n",
    "    data = ascii.read(filename)\n",
    "    \n",
    "    return data"
   ]
  },
  {
   "cell_type": "markdown",
   "metadata": {},
   "source": [
    "# Make a plot of the radio lightcurve\n",
    "Make a log-log plot of the flux density as a function of time. Make sure to modularise your code so that we can re-use parts of it later on. For bonus points use different markers for each telescope, and use a colour scale to denote the observation frequency."
   ]
  },
  {
   "cell_type": "code",
   "execution_count": 27,
   "metadata": {},
   "outputs": [
    {
     "data": {
      "image/png": "[encoded data removed]",
      "text/plain": [
       "<Figure size 720x432 with 2 Axes>"
      ]
     },
     "metadata": {},
     "output_type": "display_data"
    }
   ],
   "source": [
    "def plot_data(ax, sm, data, **kwargs):\n",
    "    telescope_marker_dict = {'VLA':'s', 'ATCA':'o', 'GMRT':'d'}\n",
    "    \n",
    "    \n",
    "    for row in data:\n",
    "        freq = row['frequency']\n",
    "        colorval = sm.to_rgba(freq)\n",
    "        \n",
    "        telescope = row['telescope']\n",
    "        marker = telescope_marker_dict[telescope]\n",
    "    \n",
    "    \n",
    "        ax.errorbar(row['delta_t'], row['flux'], row['rms'], linestyle='', marker=marker, c=colorval, **kwargs)\n",
    "    return\n",
    "\n",
    "def cmap_setup(cmap='viridis', min_freq=0, max_freq=17):\n",
    "    freq_cmap = plt.cm.get_cmap(cmap)\n",
    "    min_freq = 0\n",
    "    max_freq = 17\n",
    "    \n",
    "    cNorm  = colors.Normalize(vmin=min_freq, vmax=max_freq)\n",
    "    scalarMap = cmx.ScalarMappable(norm=cNorm, cmap=cmap)\n",
    "    sm = scalarMap\n",
    "    sm._A = []\n",
    "    \n",
    "    return sm\n",
    "    \n",
    "\n",
    "def make_plot(data):\n",
    "    fig = plt.figure(figsize=(10,6))\n",
    "    ax = fig.add_subplot(111)\n",
    "    \n",
    "    sm = cmap_setup()\n",
    "    plot_data(ax, sm, data)\n",
    "    \n",
    "    cbar = fig.colorbar(sm,fraction=0.046, pad=0.04)\n",
    "    cbar.set_label('Frequency (GHz)')\n",
    "    \n",
    "    ax.set_xscale('log')\n",
    "    ax.set_yscale('log')\n",
    "    \n",
    "    ax.set_xlabel('Time (days)')\n",
    "    ax.set_ylabel('Flux Density ($\\mu$Jy)')\n",
    "    \n",
    "    ax.set_xlim(10,400)\n",
    "    \n",
    "    \n",
    "data = load_data()\n",
    "make_plot(data)"
   ]
  },
  {
   "cell_type": "markdown",
   "metadata": {},
   "source": [
    "# Determining the spectral index\n",
    "Write a function to take a subset of the data and calculate the spectral index. Using multi-band observation at 162 days post-merger calculate the spectral index."
   ]
  },
  {
   "cell_type": "code",
   "execution_count": null,
   "metadata": {},
   "outputs": [],
   "source": [
    "def alpha_calc(data):\n",
    "    freqs = data['frequency']\n",
    "    flux = data['flux']\n",
    "    errs = data['rms']\n",
    "    \n",
    "    popt, pcov = curve_fit(calc_power_law, freqs, flux ,sigma=flux_errs, p0=(50,-0.61),absolute_sigma=True)\n",
    "    \n",
    "    alpha = popt[1]\n",
    "    alpha_err = np.sqrt(np.diag(pcov))[1]\n",
    "    \n",
    "    re"
   ]
  }
 ],
 "metadata": {
  "kernelspec": {
   "display_name": "Python 3",
   "language": "python",
   "name": "python3"
  },
  "language_info": {
   "codemirror_mode": {
    "name": "ipython",
    "version": 3
   },
   "file_extension": ".py",
   "mimetype": "text/x-python",
   "name": "python",
   "nbconvert_exporter": "python",
   "pygments_lexer": "ipython3",
   "version": "3.6.5"
  }
 },
 "nbformat": 4,
 "nbformat_minor": 2
}
